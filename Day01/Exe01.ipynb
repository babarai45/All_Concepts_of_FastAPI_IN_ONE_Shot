{
 "cells": [
  {
   "cell_type": "markdown",
   "metadata": {},
   "source": [
    "# FastApi "
   ]
  },
  {
   "cell_type": "code",
   "execution_count": 1,
   "metadata": {},
   "outputs": [],
   "source": [
    "# Here is first is to understand the  basic concept of the python especially the data types with Functions\n",
    "# The first thing is to understand the data types in python\n",
    "# The data types in python are as follows:\n",
    "# 1. Integers  - int\n",
    "# 2. Floats    - float\n",
    "# 3. Strings   - str\n",
    "# 4. Lists     - list\n",
    "# 5. Tuples    - tuple\n",
    "# 6. Dictionaries - dict\n",
    "# 7. Sets      - set\n",
    "# 8. Booleans  - bool\n",
    "# 9. None      - NoneType\n",
    "# 10. Complex  - complex\n",
    "# 11. Bytes    - bytes"
   ]
  },
  {
   "cell_type": "code",
   "execution_count": 2,
   "metadata": {},
   "outputs": [
    {
     "data": {
      "text/plain": [
       "5"
      ]
     },
     "execution_count": 2,
     "metadata": {},
     "output_type": "execute_result"
    }
   ],
   "source": [
    "# Example of Integers\n",
    "def add(a, b):\n",
    "    return a + b\n",
    "add(2, 3)"
   ]
  },
  {
   "cell_type": "code",
   "execution_count": 3,
   "metadata": {},
   "outputs": [
    {
     "data": {
      "text/plain": [
       "'Muhamed Babar'"
      ]
     },
     "execution_count": 3,
     "metadata": {},
     "output_type": "execute_result"
    }
   ],
   "source": [
    "# Example of strings\n",
    "def full_name(first_name, last_name):\n",
    "    return first_name + ' ' + last_name\n",
    "full_name('Muhamed', 'Babar')\n"
   ]
  },
  {
   "cell_type": "code",
   "execution_count": 11,
   "metadata": {},
   "outputs": [
    {
     "data": {
      "text/plain": [
       "['item1', 'item2', 'item3']"
      ]
     },
     "execution_count": 11,
     "metadata": {},
     "output_type": "execute_result"
    }
   ],
   "source": [
    "# Example of Lists\n",
    "def add_itesm_to_list(list):\n",
    "    return list\n",
    "add_itesm_to_list(['item1', 'item2', 'item3'])"
   ]
  },
  {
   "cell_type": "code",
   "execution_count": 12,
   "metadata": {},
   "outputs": [
    {
     "data": {
      "text/plain": [
       "('item1', 'item2', 'item3')"
      ]
     },
     "execution_count": 12,
     "metadata": {},
     "output_type": "execute_result"
    }
   ],
   "source": [
    "# Example of Tuples\n",
    "def add_itesm_to_tuple(tuple):\n",
    "    return tuple\n",
    "add_itesm_to_tuple(('item1', 'item2', 'item3'))"
   ]
  },
  {
   "cell_type": "code",
   "execution_count": 13,
   "metadata": {},
   "outputs": [
    {
     "data": {
      "text/plain": [
       "{'key1': 'value1', 'key2': 'value2', 'key3': 'value3'}"
      ]
     },
     "execution_count": 13,
     "metadata": {},
     "output_type": "execute_result"
    }
   ],
   "source": [
    "# Example of Dictionaries\n",
    "def add_itesm_to_dict(dict):\n",
    "    return dict\n",
    "add_itesm_to_dict({'key1': 'value1', 'key2': 'value2', 'key3': 'value3'})"
   ]
  },
  {
   "cell_type": "code",
   "execution_count": 14,
   "metadata": {},
   "outputs": [
    {
     "data": {
      "text/plain": [
       "{'item1', 'item2', 'item3'}"
      ]
     },
     "execution_count": 14,
     "metadata": {},
     "output_type": "execute_result"
    }
   ],
   "source": [
    "# Example of Sets\n",
    "def add_itesm_to_set(set):\n",
    "    return set\n",
    "add_itesm_to_set({'item1', 'item2', 'item3'})"
   ]
  },
  {
   "cell_type": "code",
   "execution_count": 15,
   "metadata": {},
   "outputs": [
    {
     "data": {
      "text/plain": [
       "True"
      ]
     },
     "execution_count": 15,
     "metadata": {},
     "output_type": "execute_result"
    }
   ],
   "source": [
    "# Example of Booleans\n",
    "def check_if_true(value):\n",
    "    return value\n",
    "check_if_true(True)"
   ]
  },
  {
   "cell_type": "code",
   "execution_count": null,
   "metadata": {},
   "outputs": [],
   "source": [
    "# Example of None\n",
    "def check_if_none(value):\n",
    "    return value\n",
    "check_if_none(None)\n"
   ]
  },
  {
   "cell_type": "code",
   "execution_count": 17,
   "metadata": {},
   "outputs": [
    {
     "data": {
      "text/plain": [
       "(1+2j)"
      ]
     },
     "execution_count": 17,
     "metadata": {},
     "output_type": "execute_result"
    }
   ],
   "source": [
    "# Example of Complex\n",
    "def check_if_complex(value):\n",
    "    return value\n",
    "check_if_complex(1+2j)"
   ]
  },
  {
   "cell_type": "code",
   "execution_count": 18,
   "metadata": {},
   "outputs": [
    {
     "data": {
      "text/plain": [
       "b'hello'"
      ]
     },
     "execution_count": 18,
     "metadata": {},
     "output_type": "execute_result"
    }
   ],
   "source": [
    "# Example of Bytes\n",
    "def check_if_bytes(value):\n",
    "    return value\n",
    "check_if_bytes(b'hello')"
   ]
  },
  {
   "cell_type": "code",
   "execution_count": 20,
   "metadata": {},
   "outputs": [
    {
     "name": "stdout",
     "output_type": "stream",
     "text": [
      "<class 'int'>\n",
      "<class 'float'>\n",
      "<class 'str'>\n",
      "<class 'list'>\n",
      "<class 'tuple'>\n",
      "<class 'dict'>\n",
      "<class 'set'>\n",
      "<class 'bool'>\n",
      "<class 'NoneType'>\n",
      "<class 'complex'>\n",
      "<class 'bytes'>\n"
     ]
    }
   ],
   "source": [
    "# if you want to check the type of the data type you can use the type() function\n",
    "# Example\n",
    "print(type(1)) # <class 'int'>\n",
    "print(type(1.0)) # <class 'float'>\n",
    "print(type('hello')) # <class 'str'>\n",
    "print(type(['item1', 'item2', 'item3'])) # <class 'list'>\n",
    "print(type(('item1', 'item2', 'item3'))) # <class 'tuple'>\n",
    "print(type({'key1': 'value1', 'key2': 'value2', 'key3': 'value3'})) # <class 'dict'>\n",
    "print(type({'item1', 'item2', 'item3'})) # <class 'set'>\n",
    "print(type(True)) # <class 'bool'>\n",
    "print(type(None)) # <class 'NoneType'>\n",
    "print(type(1+2j)) # <class 'complex'>\n",
    "print(type(b'hello')) # <class 'bytes'>\n"
   ]
  },
  {
   "cell_type": "code",
   "execution_count": 22,
   "metadata": {},
   "outputs": [
    {
     "ename": "TypeError",
     "evalue": "can only concatenate str (not \"int\") to str",
     "output_type": "error",
     "traceback": [
      "\u001b[0;31m---------------------------------------------------------------------------\u001b[0m",
      "\u001b[0;31mTypeError\u001b[0m                                 Traceback (most recent call last)",
      "Cell \u001b[0;32mIn[22], line 8\u001b[0m\n\u001b[1;32m      5\u001b[0m add(\u001b[38;5;241m2\u001b[39m, \u001b[38;5;241m3\u001b[39m)\n\u001b[1;32m      7\u001b[0m \u001b[38;5;66;03m# if we pass the wrong data type then it will give the error\u001b[39;00m\n\u001b[0;32m----> 8\u001b[0m add(\u001b[38;5;124m'\u001b[39m\u001b[38;5;124m2\u001b[39m\u001b[38;5;124m'\u001b[39m, \u001b[38;5;241m3\u001b[39m)\n",
      "Cell \u001b[0;32mIn[22], line 4\u001b[0m, in \u001b[0;36madd\u001b[0;34m(a, b)\u001b[0m\n\u001b[1;32m      3\u001b[0m \u001b[38;5;28;01mdef\u001b[39;00m \u001b[38;5;21madd\u001b[39m(a: \u001b[38;5;28mint\u001b[39m, b: \u001b[38;5;28mint\u001b[39m) \u001b[38;5;241m-\u001b[39m\u001b[38;5;241m>\u001b[39m \u001b[38;5;28mint\u001b[39m: \u001b[38;5;66;03m# Here we are specifying that the function should accept two arguments of type int and return the int\u001b[39;00m\n\u001b[0;32m----> 4\u001b[0m     \u001b[38;5;28;01mreturn\u001b[39;00m a \u001b[38;5;241m+\u001b[39m b\n",
      "\u001b[0;31mTypeError\u001b[0m: can only concatenate str (not \"int\") to str"
     ]
    }
   ],
   "source": [
    "# if we use hinting in the function then we can specify the type of the data type that the function should return or accept as an argument\n",
    "# Example\n",
    "def add(a: int, b: int) -> int: # Here we are specifying that the function should accept two arguments of type int and return the int\n",
    "    return a + b\n",
    "add(2, 3)\n",
    "\n",
    "# if we pass the wrong data type then it will give the error\n",
    "add('2', 3) # TypeError: can only concatenate str (not \"int\") to str"
   ]
  },
  {
   "cell_type": "code",
   "execution_count": 26,
   "metadata": {},
   "outputs": [
    {
     "ename": "TypeError",
     "evalue": "can only concatenate str (not \"int\") to str",
     "output_type": "error",
     "traceback": [
      "\u001b[0;31m---------------------------------------------------------------------------\u001b[0m",
      "\u001b[0;31mTypeError\u001b[0m                                 Traceback (most recent call last)",
      "Cell \u001b[0;32mIn[26], line 8\u001b[0m\n\u001b[1;32m      4\u001b[0m full_name(\u001b[38;5;124m'\u001b[39m\u001b[38;5;124mMuhamed\u001b[39m\u001b[38;5;124m'\u001b[39m, \u001b[38;5;124m'\u001b[39m\u001b[38;5;124mBabar\u001b[39m\u001b[38;5;124m'\u001b[39m)\n\u001b[1;32m      7\u001b[0m \u001b[38;5;66;03m# if we pass the wrong data type then it will give the error\u001b[39;00m\n\u001b[0;32m----> 8\u001b[0m full_name(\u001b[38;5;124m'\u001b[39m\u001b[38;5;124mMuhamed\u001b[39m\u001b[38;5;124m'\u001b[39m, \u001b[38;5;241m2\u001b[39m)\n",
      "Cell \u001b[0;32mIn[26], line 3\u001b[0m, in \u001b[0;36mfull_name\u001b[0;34m(first_name, last_name)\u001b[0m\n\u001b[1;32m      2\u001b[0m \u001b[38;5;28;01mdef\u001b[39;00m \u001b[38;5;21mfull_name\u001b[39m(first_name: \u001b[38;5;28mstr\u001b[39m, last_name: \u001b[38;5;28mstr\u001b[39m) \u001b[38;5;241m-\u001b[39m\u001b[38;5;241m>\u001b[39m \u001b[38;5;28mstr\u001b[39m:\n\u001b[0;32m----> 3\u001b[0m     \u001b[38;5;28;01mreturn\u001b[39;00m first_name \u001b[38;5;241m+\u001b[39m \u001b[38;5;124m'\u001b[39m\u001b[38;5;124m \u001b[39m\u001b[38;5;124m'\u001b[39m \u001b[38;5;241m+\u001b[39m last_name\n",
      "\u001b[0;31mTypeError\u001b[0m: can only concatenate str (not \"int\") to str"
     ]
    }
   ],
   "source": [
    "# string formattings\n",
    "def full_name(first_name: str, last_name: str) -> str:\n",
    "    return first_name + ' ' + last_name\n",
    "full_name('Muhamed', 'Babar')\n",
    "\n",
    "\n",
    "# if we pass the wrong data type then it will give the error\n",
    "full_name('Muhamed', 2) # TypeError: can only concatenate str (not \"int\") to str\n"
   ]
  },
  {
   "cell_type": "code",
   "execution_count": 32,
   "metadata": {},
   "outputs": [
    {
     "data": {
      "text/plain": [
       "['item1', 'item2', 3]"
      ]
     },
     "execution_count": 32,
     "metadata": {},
     "output_type": "execute_result"
    }
   ],
   "source": [
    "# list formattings\n",
    "# def add_itesm_to_list(items: list) -> list:   # here items is name of the argument that is list (means varable name ) and list is the type of the argument and the return type is also list\n",
    "    # return items\n",
    "# add_itesm_to_list(['item1', 'item2', 'item3'])\n",
    "\n",
    "# and we can pass type parameter in the list as well that is called type hinting or type annotation or type checking inside the list\n",
    "def add_itesm_to_list(items: list[str]) -> list[str]:   # here items is name of the argument that is list (means varable name ) and list is the type of the argument and the return type is also list\n",
    "    return items\n",
    "add_itesm_to_list(['item1', 'item2', 'item3'])\n",
    "\n",
    "# if we pass the wrong data type then it will not give the error because list homegenous data type( means it can accept any type of data type)\n",
    "add_itesm_to_list(['item1', 'item2', 3]) "
   ]
  },
  {
   "cell_type": "code",
   "execution_count": null,
   "metadata": {},
   "outputs": [],
   "source": []
  }
 ],
 "metadata": {
  "kernelspec": {
   "display_name": "base",
   "language": "python",
   "name": "python3"
  },
  "language_info": {
   "codemirror_mode": {
    "name": "ipython",
    "version": 3
   },
   "file_extension": ".py",
   "mimetype": "text/x-python",
   "name": "python",
   "nbconvert_exporter": "python",
   "pygments_lexer": "ipython3",
   "version": "3.12.4"
  }
 },
 "nbformat": 4,
 "nbformat_minor": 2
}
